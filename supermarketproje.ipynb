{
 "cells": [
  {
   "cell_type": "code",
   "execution_count": 6,
   "id": "0483653e-1c56-4ebe-a44b-5a588fb8069c",
   "metadata": {},
   "outputs": [],
   "source": [
    "import sqlite3\n",
    "import tkinter as tk\n",
    "from tkinter import messagebox"
   ]
  },
  {
   "cell_type": "code",
   "execution_count": 7,
   "id": "77a93e8b-6e4d-4dd6-a03a-088a7b4772a6",
   "metadata": {},
   "outputs": [],
   "source": [
    "#data base\n",
    "con=sqlite3.connect(\"supermarket.db\")\n",
    "cur=con.cursor()\n",
    "cur.execute('''CREATE TABLE IF NOT EXISTS product(\n",
    "            id INTEGER PRIMARY KEY AUTOINCREMENT,\n",
    "            name TEXT,\n",
    "            pricefrosh REAL,\n",
    "            pricekharid REAL,\n",
    "            qantity INTEGER)'''\n",
    "           )\n",
    "con.commit()"
   ]
  },
  {
   "cell_type": "code",
   "execution_count": 8,
   "id": "a150bd00-44dc-4283-9547-2a015cb0f906",
   "metadata": {},
   "outputs": [],
   "source": [
    "def add_product():\n",
    "    name=entry_name.get()\n",
    "    pricefrosh=entry_pricefrosh.get()\n",
    "    pricekharid=entry_pricekharid.get()\n",
    "    qantity=entry_number.get()\n",
    "    if name and pricefrosh and pricekharid and qantity:\n",
    "        cur.execute(\"INSERT INTO product(name,pricefrosh,pricekharid,qantity)VALUES(?,?,?,?)\",\n",
    "                    (name,pricefrosh,pricekharid,qantity))\n",
    "        con.commit()\n",
    "        show_product()\n",
    "    else:\n",
    "        messagebox.showwarning(\"خطا\",\"همه فیلدها را پر کنید\")\n",
    "def show_product():\n",
    "    listbox.delete(0,tk.END)\n",
    "    cur.execute(\"SELECT * FROM product\")\n",
    "    for row in cur.fetchall():\n",
    "        listbox.insert(tk.END,row)\n",
    "def delete_product():\n",
    "    selected=listbox.curselection()\n",
    "    if selected:\n",
    "        product=listbox.get(selected)\n",
    "        cur.execute(\"DELETE FROM product WHERE id=?\",(product[0],))\n",
    "        con.commit()\n",
    "        show_product()\n",
    "def search_product():\n",
    "    name=entry_name.get()\n",
    "    cur.execute(\"SELECT * FROM product WHERE name LIKE ?\",(\"%\"+name+\"%\",))\n",
    "    row=cur.fetchall()\n",
    "    listbox.delete(0,tk.END)\n",
    "    for r in row:\n",
    "        listbox.insert(tk.END,r)\n",
    "def edite_product():\n",
    "    selected=listbox.curselection()\n",
    "    if selected:\n",
    "        product=listbox.get(selected)\n",
    "        new_name=entry_name.get()\n",
    "        new_pricekharid=entry_pricekharid.get()\n",
    "        new_priceforosh=entry_pricefrosh.get()\n",
    "        new_qantity=entry_number.get()\n",
    "        cur.execute(\"UPDATE product SET name=?,pricefrosh=?,pricekharid=?,qantity=? WHERE id=?\",\n",
    "                    (new_name,new_priceforosh,new_pricekharid,new_qantity,product[0]))\n",
    "        con.commit()\n",
    "        show_product()"
   ]
  },
  {
   "cell_type": "code",
   "execution_count": 10,
   "id": "11866f0a-a9d3-44ec-beda-9d569349995b",
   "metadata": {},
   "outputs": [],
   "source": [
    "#graphic\n",
    "win= tk.Tk()\n",
    "win.title(\"modiriat supermarket\")\n",
    "tk.Label(win,text=\"name kala\").grid(row=0,column=0)\n",
    "tk.Label(win,text=\"price frosh\").grid(row=1,column=0)\n",
    "tk.Label(win,text=\"price kharid\").grid(row=0,column=2)\n",
    "tk.Label(win,text=\"number\").grid(row=1,column=2)\n",
    "entry_name=tk.Entry(win)\n",
    "entry_name.grid(row=0,column=1)\n",
    "entry_pricefrosh=tk.Entry(win)\n",
    "entry_pricefrosh.grid(row=1,column=1)\n",
    "entry_pricekharid=tk.Entry(win)\n",
    "entry_pricekharid.grid(row=0,column=3)\n",
    "entry_number=tk.Entry(win)\n",
    "entry_number.grid(row=1,column=3)\n",
    "#button\n",
    "tk.Button(win,text=\"add\",command=add_product).grid(row=3,column=0)\n",
    "tk.Button(win,text=\"search\",command=search_product).grid(row=4,column=0)\n",
    "tk.Button(win,text=\"delete\",command=delete_product).grid(row=5,column=0)\n",
    "tk.Button(win,text=\"edite\",command=edite_product).grid(row=6,column=0)\n",
    "tk.Button(win,text=\"close\",command=win.destroy).grid(row=7,column=0)\n",
    "tk.Button(win,text=\"show product\",command=show_product).grid(row=8,column=0)\n",
    "listbox = tk.Listbox(win, width=60)\n",
    "listbox.grid(row=3, column=2, columnspan=2, rowspan=6, padx=10 ,pady=10)\n",
    "#listbox=tk.Listbox(win,width=50)\n",
    "#listbox.grid(row=5,column=0,columnspan=2)\n",
    "win.mainloop()"
   ]
  },
  {
   "cell_type": "code",
   "execution_count": null,
   "id": "05f746ad-a359-4ed3-8db3-7ffb381a095f",
   "metadata": {},
   "outputs": [],
   "source": []
  }
 ],
 "metadata": {
  "kernelspec": {
   "display_name": "Python 3 (ipykernel)",
   "language": "python",
   "name": "python3"
  },
  "language_info": {
   "codemirror_mode": {
    "name": "ipython",
    "version": 3
   },
   "file_extension": ".py",
   "mimetype": "text/x-python",
   "name": "python",
   "nbconvert_exporter": "python",
   "pygments_lexer": "ipython3",
   "version": "3.10.7"
  }
 },
 "nbformat": 4,
 "nbformat_minor": 5
}
