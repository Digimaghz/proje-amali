{
 "cells": [
  {
   "cell_type": "code",
   "execution_count": 6,
   "id": "0483653e-1c56-4ebe-a44b-5a588fb8069c",
   "metadata": {},
   "outputs": [],
   "source": [
    "import sqlite3\n",
    "import tkinter as tk\n",
    "from tkinter import messagebox"
   ]
  }, 
   {
   "cell_type": "code",
   "execution_count": 10,
   "id": "11866f0a-a9d3-44ec-beda-9d569349995b",
   "metadata": {},
   "outputs": [],
   "source": [
    "#graphic\n",
    "win= tk.Tk()\n",
    "win.title(\"modiriat supermarket\")\n",
    "tk.Label(win,text=\"name kala\").grid(row=0,column=0)\n",
    "tk.Label(win,text=\"price frosh\").grid(row=1,column=0)\n",
    "tk.Label(win,text=\"price kharid\").grid(row=0,column=2)\n",
    "tk.Label(win,text=\"number\").grid(row=1,column=2)\n",
    "entry_name=tk.Entry(win)\n",
    "entry_name.grid(row=0,column=1)\n",
    "entry_pricefrosh=tk.Entry(win)\n",
    "entry_pricefrosh.grid(row=1,column=1)\n",
    "entry_pricekharid=tk.Entry(win)\n",
    "entry_pricekharid.grid(row=0,column=3)\n",
    "entry_number=tk.Entry(win)\n",
    "entry_number.grid(row=1,column=3)\n",
    "#button\n",
    "tk.Button(win,text=\"add\",command=add_product).grid(row=3,column=0)\n",
    "tk.Button(win,text=\"search\",command=search_product).grid(row=4,column=0)\n",
    "tk.Button(win,text=\"delete\",command=delete_product).grid(row=5,column=0)\n",
    "tk.Button(win,text=\"edite\",command=edite_product).grid(row=6,column=0)\n",
    "tk.Button(win,text=\"close\",command=win.destroy).grid(row=7,column=0)\n",
    "tk.Button(win,text=\"show product\",command=show_product).grid(row=8,column=0)\n",
    "listbox = tk.Listbox(win, width=60)\n",
    "listbox.grid(row=3, column=2, columnspan=2, rowspan=6, padx=10 ,pady=10)\n",
    "#listbox=tk.Listbox(win,width=50)\n",
    "#listbox.grid(row=5,column=0,columnspan=2)\n",
    "win.mainloop()"
   ]
  },
  {
   "cell_type": "code",
   "execution_count": null,
   "id": "05f746ad-a359-4ed3-8db3-7ffb381a095f",
   "metadata": {},
   "outputs": [],
   "source": []
  }
 ],
 "metadata": {
  "kernelspec": {
   "display_name": "Python 3 (ipykernel)",
   "language": "python",
   "name": "python3"
  },
  "language_info": {
   "codemirror_mode": {
    "name": "ipython",
    "version": 3
   },
   "file_extension": ".py",
   "mimetype": "text/x-python",
   "name": "python",
   "nbconvert_exporter": "python",
   "pygments_lexer": "ipython3",
   "version": "3.10.7"
  }
 },
 "nbformat": 4,
 "nbformat_minor": 5
}
